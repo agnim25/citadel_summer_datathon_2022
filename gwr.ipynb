{
 "cells": [
  {
   "cell_type": "code",
   "execution_count": 1,
   "id": "15a15926",
   "metadata": {},
   "outputs": [],
   "source": [
    "import numpy as np\n",
    "from mgwr.gwr import GWR, MGWR\n",
    "from mgwr.sel_bw import Sel_BW\n",
    "from mgwr.utils import shift_colormap, truncate_colormap\n",
    "import matplotlib.pyplot as plt\n",
    "import matplotlib as mpl\n",
    "import pandas as pd\n",
    "import os.path"
   ]
  },
  {
   "cell_type": "code",
   "execution_count": 2,
   "id": "8098dd49",
   "metadata": {},
   "outputs": [
    {
     "data": {
      "text/html": [
       "<div>\n",
       "<style scoped>\n",
       "    .dataframe tbody tr th:only-of-type {\n",
       "        vertical-align: middle;\n",
       "    }\n",
       "\n",
       "    .dataframe tbody tr th {\n",
       "        vertical-align: top;\n",
       "    }\n",
       "\n",
       "    .dataframe thead th {\n",
       "        text-align: right;\n",
       "    }\n",
       "</style>\n",
       "<table border=\"1\" class=\"dataframe\">\n",
       "  <thead>\n",
       "    <tr style=\"text-align: right;\">\n",
       "      <th></th>\n",
       "      <th>ind</th>\n",
       "      <th>date</th>\n",
       "      <th>addr_state</th>\n",
       "      <th>total_funded</th>\n",
       "      <th>payback_success_rate</th>\n",
       "    </tr>\n",
       "  </thead>\n",
       "  <tbody>\n",
       "    <tr>\n",
       "      <th>0</th>\n",
       "      <td>2015-12-01;PA</td>\n",
       "      <td>2015-12-01</td>\n",
       "      <td>PA</td>\n",
       "      <td>22969425.0</td>\n",
       "      <td>0.781983</td>\n",
       "    </tr>\n",
       "    <tr>\n",
       "      <th>1</th>\n",
       "      <td>2015-12-01;SD</td>\n",
       "      <td>2015-12-01</td>\n",
       "      <td>SD</td>\n",
       "      <td>1294050.0</td>\n",
       "      <td>0.775000</td>\n",
       "    </tr>\n",
       "    <tr>\n",
       "      <th>2</th>\n",
       "      <td>2015-12-01;IL</td>\n",
       "      <td>2015-12-01</td>\n",
       "      <td>IL</td>\n",
       "      <td>26084475.0</td>\n",
       "      <td>0.818120</td>\n",
       "    </tr>\n",
       "    <tr>\n",
       "      <th>3</th>\n",
       "      <td>2015-12-01;NJ</td>\n",
       "      <td>2015-12-01</td>\n",
       "      <td>NJ</td>\n",
       "      <td>26159675.0</td>\n",
       "      <td>0.775972</td>\n",
       "    </tr>\n",
       "    <tr>\n",
       "      <th>4</th>\n",
       "      <td>2015-12-01;GA</td>\n",
       "      <td>2015-12-01</td>\n",
       "      <td>GA</td>\n",
       "      <td>23689500.0</td>\n",
       "      <td>0.827381</td>\n",
       "    </tr>\n",
       "  </tbody>\n",
       "</table>\n",
       "</div>"
      ],
      "text/plain": [
       "             ind        date addr_state  total_funded  payback_success_rate\n",
       "0  2015-12-01;PA  2015-12-01         PA    22969425.0              0.781983\n",
       "1  2015-12-01;SD  2015-12-01         SD     1294050.0              0.775000\n",
       "2  2015-12-01;IL  2015-12-01         IL    26084475.0              0.818120\n",
       "3  2015-12-01;NJ  2015-12-01         NJ    26159675.0              0.775972\n",
       "4  2015-12-01;GA  2015-12-01         GA    23689500.0              0.827381"
      ]
     },
     "execution_count": 2,
     "metadata": {},
     "output_type": "execute_result"
    }
   ],
   "source": [
    "if os.path.exists('LC_gwr.csv'):\n",
    "    ts = pd.read_csv('LC_gwr.csv')\n",
    "else:\n",
    "    lc = pd.read_csv('../LC/Lending_Club_Accepted_2014_2018.csv')\n",
    "    lc['issue_d'] = pd.to_datetime(lc['issue_d'], format=\"%b-%Y\")\n",
    "    lc['issue_d_str'] = lc['issue_d'].apply(lambda x: x.strftime('%Y-%m-%d'))\n",
    "\n",
    "    ind = []\n",
    "    for x in lc['issue_d_str'].unique():\n",
    "        for y in lc['addr_state'].unique():\n",
    "            ind.append(str(x) + \";\" + str(y))\n",
    "    print(len(ind))\n",
    "\n",
    "    ts = pd.DataFrame()\n",
    "\n",
    "    ts['ind'] = ind\n",
    "    ts[['date', 'addr_state']] = ts['ind'].str.split(';', 1, expand=True)\n",
    "    print('Processed date, addr_state')\n",
    "\n",
    "\n",
    "    ts['total_funded'] = ts['ind'].apply(lambda x: sum(lc['funded_amnt'][\n",
    "            (lc['issue_d_str'] == x.split(';')[0]) & (lc['addr_state'] == x.split(';')[1])\n",
    "        ]))\n",
    "    print('Processed total_funded')\n",
    "\n",
    "    ts['payback_success_rate'] = ts['ind'].apply(lambda x: len(lc[(lc['issue_d_str'] == x.split(';')[0]) & (lc['addr_state'] == x.split(';')[1]) & (lc['loan_status'] == 'Fully Paid')])\n",
    "                                               / (len(lc[(lc['issue_d_str'] == x.split(';')[0]) & (lc['addr_state'] == x.split(';')[1]) & (lc['loan_status'] == 'Charged Off')]) + \n",
    "                                                  len(lc[(lc['issue_d_str'] == x.split(';')[0]) & (lc['addr_state'] == x.split(';')[1]) & (lc['loan_status'] == 'Fully Paid')]))\n",
    "                                                 if (len(lc[(lc['issue_d_str'] == x.split(';')[0]) & (lc['addr_state'] == x.split(';')[1]) & (lc['loan_status'] == 'Charged Off')]) + \n",
    "                                                  len(lc[(lc['issue_d_str'] == x.split(';')[0]) & (lc['addr_state'] == x.split(';')[1]) & (lc['loan_status'] == 'Fully Paid')]))\n",
    "                                                 else 0\n",
    "                                                )\n",
    "    print('Processed payback_success_rate')\n",
    "\n",
    "    ts['payback_failure_rate'] = ts['ind'].apply(lambda x: len(lc[(lc['issue_d_str'] == x.split(';')[0]) & (lc['addr_state'] == x.split(';')[1]) & (lc['loan_status'] == 'Charged Off')])\n",
    "                                               / (len(lc[(lc['issue_d_str'] == x.split(';')[0]) & (lc['addr_state'] == x.split(';')[1]) & (lc['loan_status'] == 'Charged Off')]) + \n",
    "                                                  len(lc[(lc['issue_d_str'] == x.split(';')[0]) & (lc['addr_state'] == x.split(';')[1]) & (lc['loan_status'] == 'Fully Paid')]))\n",
    "                                                 if (len(lc[(lc['issue_d_str'] == x.split(';')[0]) & (lc['addr_state'] == x.split(';')[1]) & (lc['loan_status'] == 'Charged Off')]) + \n",
    "                                                  len(lc[(lc['issue_d_str'] == x.split(';')[0]) & (lc['addr_state'] == x.split(';')[1]) & (lc['loan_status'] == 'Fully Paid')]))\n",
    "                                                 else 0\n",
    "                                                )\n",
    "    print('Processed payback_failure_rate')\n",
    "\n",
    "    ts['date'] = pd.to_datetime(ts['date'], format=\"%Y-%m-%d\")\n",
    "    ts = ts[ts['date'] < pd.to_datetime('06-2017', format='%m-%Y')]\n",
    "    ts.to_csv('LC_gwr.csv', index=False)\n",
    "\n",
    "ts.head()"
   ]
  },
  {
   "cell_type": "code",
   "execution_count": 12,
   "id": "645afb6f",
   "metadata": {},
   "outputs": [
    {
     "data": {
      "text/html": [
       "<div>\n",
       "<style scoped>\n",
       "    .dataframe tbody tr th:only-of-type {\n",
       "        vertical-align: middle;\n",
       "    }\n",
       "\n",
       "    .dataframe tbody tr th {\n",
       "        vertical-align: top;\n",
       "    }\n",
       "\n",
       "    .dataframe thead th {\n",
       "        text-align: right;\n",
       "    }\n",
       "</style>\n",
       "<table border=\"1\" class=\"dataframe\">\n",
       "  <thead>\n",
       "    <tr style=\"text-align: right;\">\n",
       "      <th></th>\n",
       "      <th>CPI</th>\n",
       "      <th>FFR</th>\n",
       "      <th>UR</th>\n",
       "      <th>IR</th>\n",
       "      <th>MR</th>\n",
       "      <th>date</th>\n",
       "    </tr>\n",
       "  </thead>\n",
       "  <tbody>\n",
       "    <tr>\n",
       "      <th>0</th>\n",
       "      <td>233.916</td>\n",
       "      <td>0.07</td>\n",
       "      <td>6.6</td>\n",
       "      <td>1.6</td>\n",
       "      <td>4.53</td>\n",
       "      <td>2014-01-01</td>\n",
       "    </tr>\n",
       "    <tr>\n",
       "      <th>1</th>\n",
       "      <td>234.781</td>\n",
       "      <td>0.07</td>\n",
       "      <td>6.7</td>\n",
       "      <td>1.1</td>\n",
       "      <td>4.23</td>\n",
       "      <td>2014-02-01</td>\n",
       "    </tr>\n",
       "    <tr>\n",
       "      <th>2</th>\n",
       "      <td>236.293</td>\n",
       "      <td>0.06</td>\n",
       "      <td>6.7</td>\n",
       "      <td>1.5</td>\n",
       "      <td>4.28</td>\n",
       "      <td>2014-03-01</td>\n",
       "    </tr>\n",
       "    <tr>\n",
       "      <th>3</th>\n",
       "      <td>237.072</td>\n",
       "      <td>0.08</td>\n",
       "      <td>6.2</td>\n",
       "      <td>2.0</td>\n",
       "      <td>4.41</td>\n",
       "      <td>2014-04-01</td>\n",
       "    </tr>\n",
       "    <tr>\n",
       "      <th>4</th>\n",
       "      <td>237.900</td>\n",
       "      <td>0.09</td>\n",
       "      <td>6.3</td>\n",
       "      <td>2.1</td>\n",
       "      <td>4.29</td>\n",
       "      <td>2014-05-01</td>\n",
       "    </tr>\n",
       "  </tbody>\n",
       "</table>\n",
       "</div>"
      ],
      "text/plain": [
       "       CPI   FFR   UR   IR    MR        date\n",
       "0  233.916  0.07  6.6  1.6  4.53  2014-01-01\n",
       "1  234.781  0.07  6.7  1.1  4.23  2014-02-01\n",
       "2  236.293  0.06  6.7  1.5  4.28  2014-03-01\n",
       "3  237.072  0.08  6.2  2.0  4.41  2014-04-01\n",
       "4  237.900  0.09  6.3  2.1  4.29  2014-05-01"
      ]
     },
     "execution_count": 12,
     "metadata": {},
     "output_type": "execute_result"
    }
   ],
   "source": [
    "ec = pd.read_csv('Macroeconomic Data.csv')\n",
    "ec['date'] = pd.to_datetime(ec['Month-Year'], format=\"%m-%Y\")\n",
    "ec['date'] = ec['date'].apply(lambda x: x.strftime('%Y-%m-%d'))\n",
    "\n",
    "del ec['Month-Year']\n",
    "ec.head()"
   ]
  },
  {
   "cell_type": "code",
   "execution_count": 65,
   "id": "005997cb",
   "metadata": {
    "scrolled": false
   },
   "outputs": [
    {
     "data": {
      "text/html": [
       "<div>\n",
       "<style scoped>\n",
       "    .dataframe tbody tr th:only-of-type {\n",
       "        vertical-align: middle;\n",
       "    }\n",
       "\n",
       "    .dataframe tbody tr th {\n",
       "        vertical-align: top;\n",
       "    }\n",
       "\n",
       "    .dataframe thead th {\n",
       "        text-align: right;\n",
       "    }\n",
       "</style>\n",
       "<table border=\"1\" class=\"dataframe\">\n",
       "  <thead>\n",
       "    <tr style=\"text-align: right;\">\n",
       "      <th></th>\n",
       "      <th>ind</th>\n",
       "      <th>date</th>\n",
       "      <th>addr_state</th>\n",
       "      <th>total_funded</th>\n",
       "      <th>payback_success_rate</th>\n",
       "      <th>lat</th>\n",
       "      <th>lon</th>\n",
       "      <th>x</th>\n",
       "      <th>y</th>\n",
       "      <th>CPI</th>\n",
       "      <th>FFR</th>\n",
       "      <th>UR</th>\n",
       "      <th>IR</th>\n",
       "      <th>MR</th>\n",
       "    </tr>\n",
       "  </thead>\n",
       "  <tbody>\n",
       "    <tr>\n",
       "      <th>0</th>\n",
       "      <td>2015-12-01;PA</td>\n",
       "      <td>2015-12-01</td>\n",
       "      <td>PA</td>\n",
       "      <td>22969425.0</td>\n",
       "      <td>0.781983</td>\n",
       "      <td>8.559559</td>\n",
       "      <td>-81.130843</td>\n",
       "      <td>-9.031444e+06</td>\n",
       "      <td>9.564099e+05</td>\n",
       "      <td>236.525</td>\n",
       "      <td>0.13</td>\n",
       "      <td>5.0</td>\n",
       "      <td>0.7</td>\n",
       "      <td>3.93</td>\n",
       "    </tr>\n",
       "    <tr>\n",
       "      <th>1</th>\n",
       "      <td>2015-12-01;SD</td>\n",
       "      <td>2015-12-01</td>\n",
       "      <td>SD</td>\n",
       "      <td>1294050.0</td>\n",
       "      <td>0.775000</td>\n",
       "      <td>14.584444</td>\n",
       "      <td>29.491769</td>\n",
       "      <td>3.283009e+06</td>\n",
       "      <td>1.641355e+06</td>\n",
       "      <td>236.525</td>\n",
       "      <td>0.13</td>\n",
       "      <td>5.0</td>\n",
       "      <td>0.7</td>\n",
       "      <td>3.93</td>\n",
       "    </tr>\n",
       "    <tr>\n",
       "      <th>2</th>\n",
       "      <td>2015-12-01;IL</td>\n",
       "      <td>2015-12-01</td>\n",
       "      <td>IL</td>\n",
       "      <td>26084475.0</td>\n",
       "      <td>0.818120</td>\n",
       "      <td>40.079661</td>\n",
       "      <td>-89.433729</td>\n",
       "      <td>-9.955717e+06</td>\n",
       "      <td>4.877525e+06</td>\n",
       "      <td>236.525</td>\n",
       "      <td>0.13</td>\n",
       "      <td>5.0</td>\n",
       "      <td>0.7</td>\n",
       "      <td>3.93</td>\n",
       "    </tr>\n",
       "    <tr>\n",
       "      <th>3</th>\n",
       "      <td>2015-12-01;NJ</td>\n",
       "      <td>2015-12-01</td>\n",
       "      <td>NJ</td>\n",
       "      <td>26159675.0</td>\n",
       "      <td>0.775972</td>\n",
       "      <td>40.075738</td>\n",
       "      <td>-74.404162</td>\n",
       "      <td>-8.282633e+06</td>\n",
       "      <td>4.876954e+06</td>\n",
       "      <td>236.525</td>\n",
       "      <td>0.13</td>\n",
       "      <td>5.0</td>\n",
       "      <td>0.7</td>\n",
       "      <td>3.93</td>\n",
       "    </tr>\n",
       "    <tr>\n",
       "      <th>4</th>\n",
       "      <td>2015-12-01;GA</td>\n",
       "      <td>2015-12-01</td>\n",
       "      <td>GA</td>\n",
       "      <td>23689500.0</td>\n",
       "      <td>0.827381</td>\n",
       "      <td>-0.899969</td>\n",
       "      <td>11.689970</td>\n",
       "      <td>1.301321e+06</td>\n",
       "      <td>-1.001883e+05</td>\n",
       "      <td>236.525</td>\n",
       "      <td>0.13</td>\n",
       "      <td>5.0</td>\n",
       "      <td>0.7</td>\n",
       "      <td>3.93</td>\n",
       "    </tr>\n",
       "  </tbody>\n",
       "</table>\n",
       "</div>"
      ],
      "text/plain": [
       "             ind        date addr_state  total_funded  payback_success_rate  \\\n",
       "0  2015-12-01;PA  2015-12-01         PA    22969425.0              0.781983   \n",
       "1  2015-12-01;SD  2015-12-01         SD     1294050.0              0.775000   \n",
       "2  2015-12-01;IL  2015-12-01         IL    26084475.0              0.818120   \n",
       "3  2015-12-01;NJ  2015-12-01         NJ    26159675.0              0.775972   \n",
       "4  2015-12-01;GA  2015-12-01         GA    23689500.0              0.827381   \n",
       "\n",
       "         lat        lon             x             y      CPI   FFR   UR   IR  \\\n",
       "0   8.559559 -81.130843 -9.031444e+06  9.564099e+05  236.525  0.13  5.0  0.7   \n",
       "1  14.584444  29.491769  3.283009e+06  1.641355e+06  236.525  0.13  5.0  0.7   \n",
       "2  40.079661 -89.433729 -9.955717e+06  4.877525e+06  236.525  0.13  5.0  0.7   \n",
       "3  40.075738 -74.404162 -8.282633e+06  4.876954e+06  236.525  0.13  5.0  0.7   \n",
       "4  -0.899969  11.689970  1.301321e+06 -1.001883e+05  236.525  0.13  5.0  0.7   \n",
       "\n",
       "     MR  \n",
       "0  3.93  \n",
       "1  3.93  \n",
       "2  3.93  \n",
       "3  3.93  \n",
       "4  3.93  "
      ]
     },
     "execution_count": 65,
     "metadata": {},
     "output_type": "execute_result"
    }
   ],
   "source": [
    "df = pd.merge(ts, ec, how='left', on='date')\n",
    "df.head()"
   ]
  },
  {
   "cell_type": "code",
   "execution_count": 140,
   "id": "8d76a4e0",
   "metadata": {},
   "outputs": [],
   "source": [
    "# Prepare dataset inputs\n",
    "ec_fts = ['CPI', 'FFR', 'UR', 'IR', 'MR']\n",
    "g_y = df['payback_success_rate'].values.reshape((-1,1))\n",
    "g_X = df[ec_fts].values\n",
    "u = df['x']\n",
    "v = df['y']\n",
    "\n",
    "g_coords = list(zip(u,v))\n",
    "\n",
    "g_X = (g_X - g_X.mean(axis=0)) / g_X.std(axis=0)\n",
    "\n",
    "g_y = g_y.reshape((-1,1))\n",
    "\n",
    "g_y = (g_y - g_y.mean(axis=0)) / g_y.std(axis=0)"
   ]
  },
  {
   "cell_type": "code",
   "execution_count": 67,
   "id": "14c71b15",
   "metadata": {
    "scrolled": true
   },
   "outputs": [
    {
     "name": "stdout",
     "output_type": "stream",
     "text": [
      "47.0\n"
     ]
    }
   ],
   "source": [
    "# Calibrate GWR model\n",
    "\n",
    "gwr_selector = Sel_BW(g_coords, g_y, g_X)\n",
    "gwr_bw = gwr_selector.search(bw_min=2)\n",
    "print(gwr_bw)\n",
    "gwr_results = GWR(g_coords, g_y, g_X, gwr_bw).fit()"
   ]
  },
  {
   "cell_type": "code",
   "execution_count": 68,
   "id": "8c6cf63d",
   "metadata": {},
   "outputs": [
    {
     "name": "stdout",
     "output_type": "stream",
     "text": [
      "===========================================================================\n",
      "Model type                                                         Gaussian\n",
      "Number of observations:                                                2091\n",
      "Number of covariates:                                                     6\n",
      "\n",
      "Global Regression Results\n",
      "---------------------------------------------------------------------------\n",
      "Residual sum of squares:                                           2087.397\n",
      "Log-likelihood:                                                   -2965.197\n",
      "AIC:                                                               5942.395\n",
      "AICc:                                                              5944.449\n",
      "BIC:                                                             -13853.257\n",
      "R2:                                                                   0.002\n",
      "Adj. R2:                                                             -0.001\n",
      "\n",
      "Variable                              Est.         SE  t(Est/SE)    p-value\n",
      "------------------------------- ---------- ---------- ---------- ----------\n",
      "X0                                   0.000      0.022      0.000      1.000\n",
      "X1                                  -0.080      0.053     -1.508      0.132\n",
      "X2                                   0.012      0.052      0.239      0.811\n",
      "X3                                  -0.071      0.047     -1.513      0.130\n",
      "X4                                   0.026      0.040      0.660      0.509\n",
      "X5                                   0.019      0.031      0.622      0.534\n",
      "\n",
      "Geographically Weighted Regression (GWR) Results\n",
      "---------------------------------------------------------------------------\n",
      "Spatial kernel:                                           Adaptive bisquare\n",
      "Bandwidth used:                                                      47.000\n",
      "\n",
      "Diagnostic information\n",
      "---------------------------------------------------------------------------\n",
      "Residual sum of squares:                                            331.398\n",
      "Effective number of parameters (trace(S)):                          306.000\n",
      "Degree of freedom (n - trace(S)):                                  1785.000\n",
      "Sigma estimate:                                                       0.431\n",
      "Log-likelihood:                                                   -1041.108\n",
      "AIC:                                                               2696.216\n",
      "AICc:                                                              2802.280\n",
      "BIC:                                                               4429.353\n",
      "R2:                                                                   0.842\n",
      "Adjusted R2:                                                          0.814\n",
      "Adj. alpha (95%):                                                     0.001\n",
      "Adj. critical t value (95%):                                          3.301\n",
      "\n",
      "Summary Statistics For GWR Parameter Estimates\n",
      "---------------------------------------------------------------------------\n",
      "Variable                   Mean        STD        Min     Median        Max\n",
      "-------------------- ---------- ---------- ---------- ---------- ----------\n",
      "X0                        0.000      0.747     -3.609      0.197      0.562\n",
      "X1                       -0.080      0.128     -0.721     -0.072      0.176\n",
      "X2                        0.012      0.305     -0.950     -0.005      1.795\n",
      "X3                       -0.071      0.425     -1.895      0.016      0.544\n",
      "X4                        0.026      0.165     -0.497     -0.002      0.719\n",
      "X5                        0.019      0.174     -1.014      0.061      0.274\n",
      "===========================================================================\n",
      "\n"
     ]
    }
   ],
   "source": [
    "gwr_results.summary()"
   ]
  },
  {
   "cell_type": "code",
   "execution_count": 126,
   "id": "01d1566a",
   "metadata": {},
   "outputs": [
    {
     "data": {
      "text/html": [
       "<div>\n",
       "<style scoped>\n",
       "    .dataframe tbody tr th:only-of-type {\n",
       "        vertical-align: middle;\n",
       "    }\n",
       "\n",
       "    .dataframe tbody tr th {\n",
       "        vertical-align: top;\n",
       "    }\n",
       "\n",
       "    .dataframe thead th {\n",
       "        text-align: right;\n",
       "    }\n",
       "</style>\n",
       "<table border=\"1\" class=\"dataframe\">\n",
       "  <thead>\n",
       "    <tr style=\"text-align: right;\">\n",
       "      <th></th>\n",
       "      <th>CPI</th>\n",
       "      <th>FFR</th>\n",
       "      <th>UR</th>\n",
       "      <th>IR</th>\n",
       "      <th>MR</th>\n",
       "    </tr>\n",
       "  </thead>\n",
       "  <tbody>\n",
       "    <tr>\n",
       "      <th>PA</th>\n",
       "      <td>-0.079606</td>\n",
       "      <td>0.030946</td>\n",
       "      <td>0.021600</td>\n",
       "      <td>-0.022325</td>\n",
       "      <td>0.075872</td>\n",
       "    </tr>\n",
       "    <tr>\n",
       "      <th>SD</th>\n",
       "      <td>-0.119476</td>\n",
       "      <td>0.097245</td>\n",
       "      <td>0.114646</td>\n",
       "      <td>0.102230</td>\n",
       "      <td>0.020214</td>\n",
       "    </tr>\n",
       "    <tr>\n",
       "      <th>IL</th>\n",
       "      <td>-0.039761</td>\n",
       "      <td>-0.027163</td>\n",
       "      <td>0.038570</td>\n",
       "      <td>-0.018780</td>\n",
       "      <td>0.069159</td>\n",
       "    </tr>\n",
       "    <tr>\n",
       "      <th>NJ</th>\n",
       "      <td>-0.077144</td>\n",
       "      <td>-0.024428</td>\n",
       "      <td>0.034034</td>\n",
       "      <td>-0.001591</td>\n",
       "      <td>0.065205</td>\n",
       "    </tr>\n",
       "    <tr>\n",
       "      <th>GA</th>\n",
       "      <td>-0.071765</td>\n",
       "      <td>-0.012803</td>\n",
       "      <td>-0.039564</td>\n",
       "      <td>-0.007547</td>\n",
       "      <td>0.106716</td>\n",
       "    </tr>\n",
       "  </tbody>\n",
       "</table>\n",
       "</div>"
      ],
      "text/plain": [
       "         CPI       FFR        UR        IR        MR\n",
       "PA -0.079606  0.030946  0.021600 -0.022325  0.075872\n",
       "SD -0.119476  0.097245  0.114646  0.102230  0.020214\n",
       "IL -0.039761 -0.027163  0.038570 -0.018780  0.069159\n",
       "NJ -0.077144 -0.024428  0.034034 -0.001591  0.065205\n",
       "GA -0.071765 -0.012803 -0.039564 -0.007547  0.106716"
      ]
     },
     "execution_count": 126,
     "metadata": {},
     "output_type": "execute_result"
    }
   ],
   "source": [
    "def mean(lst):\n",
    "    return sum(lst)/len(lst)\n",
    "\n",
    "states_ind = df['addr_state']\n",
    "coeffs = pd.DataFrame()\n",
    "coeffs.index = states_ind.unique()\n",
    "for i in range(len(ec_fts)):\n",
    "    col = ec_fts[i]\n",
    "    coeffs[col] = [[] for _ in range(len(coeffs))]\n",
    "    for j in range(len(gwr_results.params[:, i + 1])):\n",
    "        coeffs.at[states_ind[j], col].append(gwr_results.params[:, i + 1][j])\n",
    "    for j in range(len(coeffs)):\n",
    "        coeffs.loc[states_ind[j]][col] = mean(coeffs.loc[states_ind[j]][col])\n",
    "\n",
    "for col in coeffs.columns:\n",
    "    coeffs[col] = coeffs[col].astype(float)\n",
    "    \n",
    "coeffs.head()"
   ]
  },
  {
   "cell_type": "code",
   "execution_count": 152,
   "id": "de50bb45",
   "metadata": {},
   "outputs": [
    {
     "data": {
      "application/vnd.plotly.v1+json": {
       "config": {
        "plotlyServerURL": "https://plot.ly"
       },
       "data": [
        {
         "coloraxis": "coloraxis",
         "geo": "geo",
         "hovertemplate": "index=%{location}<br>FFR Coefficient=%{z}<extra></extra>",
         "locationmode": "USA-states",
         "locations": [
          "PA",
          "SD",
          "IL",
          "NJ",
          "GA",
          "MN",
          "SC",
          "RI",
          "TX",
          "NC",
          "CA",
          "VA",
          "AZ",
          "NY",
          "IN",
          "MD",
          "KS",
          "NM",
          "AL",
          "WA",
          "MO",
          "OH",
          "LA",
          "FL",
          "CO",
          "MI",
          "TN",
          "DC",
          "MA",
          "WI",
          "HI",
          "VT",
          "DE",
          "NH",
          "NE",
          "CT",
          "OR",
          "AR",
          "MT",
          "NV",
          "WV",
          "WY",
          "OK",
          "KY",
          "MS",
          "ME",
          "UT",
          "ND",
          "AK",
          "ID",
          "IA"
         ],
         "name": "",
         "type": "choropleth",
         "z": [
          0.030946297291098615,
          0.09724530229749381,
          -0.027162998147646986,
          -0.024428390115990843,
          -0.012802970402797712,
          0.06097021154618344,
          0.015124963531119985,
          0.07801213603951981,
          -0.005422506717642661,
          -0.043136987376675144,
          -0.02220912231079578,
          -0.011937531772761412,
          0.024348778533413665,
          -0.06824280456373359,
          0.04304018821077716,
          -0.0925886148994244,
          -0.01293293392766187,
          0.04861479046648332,
          -0.04412386884835961,
          0.026743188487597144,
          -0.014737936725955688,
          0.04965275207964663,
          0.005429172466226319,
          -0.008526917199901042,
          -0.004690469062527993,
          -0.08224593712294591,
          0.04365671780088104,
          0.04201439718088435,
          -0.07278086278890508,
          -0.1004804960647184,
          0.07370919473491803,
          0.07667281284793236,
          0.030893250101905998,
          -0.04604898605655988,
          -0.19682976344816616,
          -0.08318596810464175,
          -0.006953153468605112,
          0.0017311954896660428,
          0.013053126828728319,
          0.0029436471682330006,
          -0.40447785960965466,
          -0.024211428682173967,
          0.0017318296198734207,
          0.029450034652454445,
          -0.9499244824051986,
          0.4678140500462039,
          -0.021796924921266066,
          -0.234083017478726,
          -0.03157379474322383,
          1.794601013662395,
          0.2201345937218814
         ]
        }
       ],
       "layout": {
        "coloraxis": {
         "cmax": 0.1,
         "cmin": -0.1,
         "colorbar": {
          "title": {
           "text": "FFR Coefficient"
          }
         },
         "colorscale": [
          [
           0,
           "rgb(165,0,38)"
          ],
          [
           0.1,
           "rgb(215,48,39)"
          ],
          [
           0.2,
           "rgb(244,109,67)"
          ],
          [
           0.3,
           "rgb(253,174,97)"
          ],
          [
           0.4,
           "rgb(254,224,144)"
          ],
          [
           0.5,
           "rgb(255,255,191)"
          ],
          [
           0.6,
           "rgb(224,243,248)"
          ],
          [
           0.7,
           "rgb(171,217,233)"
          ],
          [
           0.8,
           "rgb(116,173,209)"
          ],
          [
           0.9,
           "rgb(69,117,180)"
          ],
          [
           1,
           "rgb(49,54,149)"
          ]
         ]
        },
        "geo": {
         "center": {},
         "domain": {
          "x": [
           0,
           1
          ],
          "y": [
           0,
           1
          ]
         },
         "scope": "usa"
        },
        "legend": {
         "tracegroupgap": 0
        },
        "margin": {
         "b": 0,
         "l": 0,
         "r": 0,
         "t": 0
        },
        "template": {
         "data": {
          "bar": [
           {
            "error_x": {
             "color": "#2a3f5f"
            },
            "error_y": {
             "color": "#2a3f5f"
            },
            "marker": {
             "line": {
              "color": "#E5ECF6",
              "width": 0.5
             },
             "pattern": {
              "fillmode": "overlay",
              "size": 10,
              "solidity": 0.2
             }
            },
            "type": "bar"
           }
          ],
          "barpolar": [
           {
            "marker": {
             "line": {
              "color": "#E5ECF6",
              "width": 0.5
             },
             "pattern": {
              "fillmode": "overlay",
              "size": 10,
              "solidity": 0.2
             }
            },
            "type": "barpolar"
           }
          ],
          "carpet": [
           {
            "aaxis": {
             "endlinecolor": "#2a3f5f",
             "gridcolor": "white",
             "linecolor": "white",
             "minorgridcolor": "white",
             "startlinecolor": "#2a3f5f"
            },
            "baxis": {
             "endlinecolor": "#2a3f5f",
             "gridcolor": "white",
             "linecolor": "white",
             "minorgridcolor": "white",
             "startlinecolor": "#2a3f5f"
            },
            "type": "carpet"
           }
          ],
          "choropleth": [
           {
            "colorbar": {
             "outlinewidth": 0,
             "ticks": ""
            },
            "type": "choropleth"
           }
          ],
          "contour": [
           {
            "colorbar": {
             "outlinewidth": 0,
             "ticks": ""
            },
            "colorscale": [
             [
              0,
              "#0d0887"
             ],
             [
              0.1111111111111111,
              "#46039f"
             ],
             [
              0.2222222222222222,
              "#7201a8"
             ],
             [
              0.3333333333333333,
              "#9c179e"
             ],
             [
              0.4444444444444444,
              "#bd3786"
             ],
             [
              0.5555555555555556,
              "#d8576b"
             ],
             [
              0.6666666666666666,
              "#ed7953"
             ],
             [
              0.7777777777777778,
              "#fb9f3a"
             ],
             [
              0.8888888888888888,
              "#fdca26"
             ],
             [
              1,
              "#f0f921"
             ]
            ],
            "type": "contour"
           }
          ],
          "contourcarpet": [
           {
            "colorbar": {
             "outlinewidth": 0,
             "ticks": ""
            },
            "type": "contourcarpet"
           }
          ],
          "heatmap": [
           {
            "colorbar": {
             "outlinewidth": 0,
             "ticks": ""
            },
            "colorscale": [
             [
              0,
              "#0d0887"
             ],
             [
              0.1111111111111111,
              "#46039f"
             ],
             [
              0.2222222222222222,
              "#7201a8"
             ],
             [
              0.3333333333333333,
              "#9c179e"
             ],
             [
              0.4444444444444444,
              "#bd3786"
             ],
             [
              0.5555555555555556,
              "#d8576b"
             ],
             [
              0.6666666666666666,
              "#ed7953"
             ],
             [
              0.7777777777777778,
              "#fb9f3a"
             ],
             [
              0.8888888888888888,
              "#fdca26"
             ],
             [
              1,
              "#f0f921"
             ]
            ],
            "type": "heatmap"
           }
          ],
          "heatmapgl": [
           {
            "colorbar": {
             "outlinewidth": 0,
             "ticks": ""
            },
            "colorscale": [
             [
              0,
              "#0d0887"
             ],
             [
              0.1111111111111111,
              "#46039f"
             ],
             [
              0.2222222222222222,
              "#7201a8"
             ],
             [
              0.3333333333333333,
              "#9c179e"
             ],
             [
              0.4444444444444444,
              "#bd3786"
             ],
             [
              0.5555555555555556,
              "#d8576b"
             ],
             [
              0.6666666666666666,
              "#ed7953"
             ],
             [
              0.7777777777777778,
              "#fb9f3a"
             ],
             [
              0.8888888888888888,
              "#fdca26"
             ],
             [
              1,
              "#f0f921"
             ]
            ],
            "type": "heatmapgl"
           }
          ],
          "histogram": [
           {
            "marker": {
             "pattern": {
              "fillmode": "overlay",
              "size": 10,
              "solidity": 0.2
             }
            },
            "type": "histogram"
           }
          ],
          "histogram2d": [
           {
            "colorbar": {
             "outlinewidth": 0,
             "ticks": ""
            },
            "colorscale": [
             [
              0,
              "#0d0887"
             ],
             [
              0.1111111111111111,
              "#46039f"
             ],
             [
              0.2222222222222222,
              "#7201a8"
             ],
             [
              0.3333333333333333,
              "#9c179e"
             ],
             [
              0.4444444444444444,
              "#bd3786"
             ],
             [
              0.5555555555555556,
              "#d8576b"
             ],
             [
              0.6666666666666666,
              "#ed7953"
             ],
             [
              0.7777777777777778,
              "#fb9f3a"
             ],
             [
              0.8888888888888888,
              "#fdca26"
             ],
             [
              1,
              "#f0f921"
             ]
            ],
            "type": "histogram2d"
           }
          ],
          "histogram2dcontour": [
           {
            "colorbar": {
             "outlinewidth": 0,
             "ticks": ""
            },
            "colorscale": [
             [
              0,
              "#0d0887"
             ],
             [
              0.1111111111111111,
              "#46039f"
             ],
             [
              0.2222222222222222,
              "#7201a8"
             ],
             [
              0.3333333333333333,
              "#9c179e"
             ],
             [
              0.4444444444444444,
              "#bd3786"
             ],
             [
              0.5555555555555556,
              "#d8576b"
             ],
             [
              0.6666666666666666,
              "#ed7953"
             ],
             [
              0.7777777777777778,
              "#fb9f3a"
             ],
             [
              0.8888888888888888,
              "#fdca26"
             ],
             [
              1,
              "#f0f921"
             ]
            ],
            "type": "histogram2dcontour"
           }
          ],
          "mesh3d": [
           {
            "colorbar": {
             "outlinewidth": 0,
             "ticks": ""
            },
            "type": "mesh3d"
           }
          ],
          "parcoords": [
           {
            "line": {
             "colorbar": {
              "outlinewidth": 0,
              "ticks": ""
             }
            },
            "type": "parcoords"
           }
          ],
          "pie": [
           {
            "automargin": true,
            "type": "pie"
           }
          ],
          "scatter": [
           {
            "fillpattern": {
             "fillmode": "overlay",
             "size": 10,
             "solidity": 0.2
            },
            "type": "scatter"
           }
          ],
          "scatter3d": [
           {
            "line": {
             "colorbar": {
              "outlinewidth": 0,
              "ticks": ""
             }
            },
            "marker": {
             "colorbar": {
              "outlinewidth": 0,
              "ticks": ""
             }
            },
            "type": "scatter3d"
           }
          ],
          "scattercarpet": [
           {
            "marker": {
             "colorbar": {
              "outlinewidth": 0,
              "ticks": ""
             }
            },
            "type": "scattercarpet"
           }
          ],
          "scattergeo": [
           {
            "marker": {
             "colorbar": {
              "outlinewidth": 0,
              "ticks": ""
             }
            },
            "type": "scattergeo"
           }
          ],
          "scattergl": [
           {
            "marker": {
             "colorbar": {
              "outlinewidth": 0,
              "ticks": ""
             }
            },
            "type": "scattergl"
           }
          ],
          "scattermapbox": [
           {
            "marker": {
             "colorbar": {
              "outlinewidth": 0,
              "ticks": ""
             }
            },
            "type": "scattermapbox"
           }
          ],
          "scatterpolar": [
           {
            "marker": {
             "colorbar": {
              "outlinewidth": 0,
              "ticks": ""
             }
            },
            "type": "scatterpolar"
           }
          ],
          "scatterpolargl": [
           {
            "marker": {
             "colorbar": {
              "outlinewidth": 0,
              "ticks": ""
             }
            },
            "type": "scatterpolargl"
           }
          ],
          "scatterternary": [
           {
            "marker": {
             "colorbar": {
              "outlinewidth": 0,
              "ticks": ""
             }
            },
            "type": "scatterternary"
           }
          ],
          "surface": [
           {
            "colorbar": {
             "outlinewidth": 0,
             "ticks": ""
            },
            "colorscale": [
             [
              0,
              "#0d0887"
             ],
             [
              0.1111111111111111,
              "#46039f"
             ],
             [
              0.2222222222222222,
              "#7201a8"
             ],
             [
              0.3333333333333333,
              "#9c179e"
             ],
             [
              0.4444444444444444,
              "#bd3786"
             ],
             [
              0.5555555555555556,
              "#d8576b"
             ],
             [
              0.6666666666666666,
              "#ed7953"
             ],
             [
              0.7777777777777778,
              "#fb9f3a"
             ],
             [
              0.8888888888888888,
              "#fdca26"
             ],
             [
              1,
              "#f0f921"
             ]
            ],
            "type": "surface"
           }
          ],
          "table": [
           {
            "cells": {
             "fill": {
              "color": "#EBF0F8"
             },
             "line": {
              "color": "white"
             }
            },
            "header": {
             "fill": {
              "color": "#C8D4E3"
             },
             "line": {
              "color": "white"
             }
            },
            "type": "table"
           }
          ]
         },
         "layout": {
          "annotationdefaults": {
           "arrowcolor": "#2a3f5f",
           "arrowhead": 0,
           "arrowwidth": 1
          },
          "autotypenumbers": "strict",
          "coloraxis": {
           "colorbar": {
            "outlinewidth": 0,
            "ticks": ""
           }
          },
          "colorscale": {
           "diverging": [
            [
             0,
             "#8e0152"
            ],
            [
             0.1,
             "#c51b7d"
            ],
            [
             0.2,
             "#de77ae"
            ],
            [
             0.3,
             "#f1b6da"
            ],
            [
             0.4,
             "#fde0ef"
            ],
            [
             0.5,
             "#f7f7f7"
            ],
            [
             0.6,
             "#e6f5d0"
            ],
            [
             0.7,
             "#b8e186"
            ],
            [
             0.8,
             "#7fbc41"
            ],
            [
             0.9,
             "#4d9221"
            ],
            [
             1,
             "#276419"
            ]
           ],
           "sequential": [
            [
             0,
             "#0d0887"
            ],
            [
             0.1111111111111111,
             "#46039f"
            ],
            [
             0.2222222222222222,
             "#7201a8"
            ],
            [
             0.3333333333333333,
             "#9c179e"
            ],
            [
             0.4444444444444444,
             "#bd3786"
            ],
            [
             0.5555555555555556,
             "#d8576b"
            ],
            [
             0.6666666666666666,
             "#ed7953"
            ],
            [
             0.7777777777777778,
             "#fb9f3a"
            ],
            [
             0.8888888888888888,
             "#fdca26"
            ],
            [
             1,
             "#f0f921"
            ]
           ],
           "sequentialminus": [
            [
             0,
             "#0d0887"
            ],
            [
             0.1111111111111111,
             "#46039f"
            ],
            [
             0.2222222222222222,
             "#7201a8"
            ],
            [
             0.3333333333333333,
             "#9c179e"
            ],
            [
             0.4444444444444444,
             "#bd3786"
            ],
            [
             0.5555555555555556,
             "#d8576b"
            ],
            [
             0.6666666666666666,
             "#ed7953"
            ],
            [
             0.7777777777777778,
             "#fb9f3a"
            ],
            [
             0.8888888888888888,
             "#fdca26"
            ],
            [
             1,
             "#f0f921"
            ]
           ]
          },
          "colorway": [
           "#636efa",
           "#EF553B",
           "#00cc96",
           "#ab63fa",
           "#FFA15A",
           "#19d3f3",
           "#FF6692",
           "#B6E880",
           "#FF97FF",
           "#FECB52"
          ],
          "font": {
           "color": "#2a3f5f"
          },
          "geo": {
           "bgcolor": "white",
           "lakecolor": "white",
           "landcolor": "#E5ECF6",
           "showlakes": true,
           "showland": true,
           "subunitcolor": "white"
          },
          "hoverlabel": {
           "align": "left"
          },
          "hovermode": "closest",
          "mapbox": {
           "style": "light"
          },
          "paper_bgcolor": "white",
          "plot_bgcolor": "#E5ECF6",
          "polar": {
           "angularaxis": {
            "gridcolor": "white",
            "linecolor": "white",
            "ticks": ""
           },
           "bgcolor": "#E5ECF6",
           "radialaxis": {
            "gridcolor": "white",
            "linecolor": "white",
            "ticks": ""
           }
          },
          "scene": {
           "xaxis": {
            "backgroundcolor": "#E5ECF6",
            "gridcolor": "white",
            "gridwidth": 2,
            "linecolor": "white",
            "showbackground": true,
            "ticks": "",
            "zerolinecolor": "white"
           },
           "yaxis": {
            "backgroundcolor": "#E5ECF6",
            "gridcolor": "white",
            "gridwidth": 2,
            "linecolor": "white",
            "showbackground": true,
            "ticks": "",
            "zerolinecolor": "white"
           },
           "zaxis": {
            "backgroundcolor": "#E5ECF6",
            "gridcolor": "white",
            "gridwidth": 2,
            "linecolor": "white",
            "showbackground": true,
            "ticks": "",
            "zerolinecolor": "white"
           }
          },
          "shapedefaults": {
           "line": {
            "color": "#2a3f5f"
           }
          },
          "ternary": {
           "aaxis": {
            "gridcolor": "white",
            "linecolor": "white",
            "ticks": ""
           },
           "baxis": {
            "gridcolor": "white",
            "linecolor": "white",
            "ticks": ""
           },
           "bgcolor": "#E5ECF6",
           "caxis": {
            "gridcolor": "white",
            "linecolor": "white",
            "ticks": ""
           }
          },
          "title": {
           "x": 0.05
          },
          "xaxis": {
           "automargin": true,
           "gridcolor": "white",
           "linecolor": "white",
           "ticks": "",
           "title": {
            "standoff": 15
           },
           "zerolinecolor": "white",
           "zerolinewidth": 2
          },
          "yaxis": {
           "automargin": true,
           "gridcolor": "white",
           "linecolor": "white",
           "ticks": "",
           "title": {
            "standoff": 15
           },
           "zerolinecolor": "white",
           "zerolinewidth": 2
          }
         }
        }
       }
      },
      "text/html": [
       "<div>                            <div id=\"39ef969a-6cc7-4a67-87e5-62a6c3f63218\" class=\"plotly-graph-div\" style=\"height:525px; width:100%;\"></div>            <script type=\"text/javascript\">                require([\"plotly\"], function(Plotly) {                    window.PLOTLYENV=window.PLOTLYENV || {};                                    if (document.getElementById(\"39ef969a-6cc7-4a67-87e5-62a6c3f63218\")) {                    Plotly.newPlot(                        \"39ef969a-6cc7-4a67-87e5-62a6c3f63218\",                        [{\"coloraxis\":\"coloraxis\",\"geo\":\"geo\",\"hovertemplate\":\"index=%{location}<br>FFR Coefficient=%{z}<extra></extra>\",\"locationmode\":\"USA-states\",\"locations\":[\"PA\",\"SD\",\"IL\",\"NJ\",\"GA\",\"MN\",\"SC\",\"RI\",\"TX\",\"NC\",\"CA\",\"VA\",\"AZ\",\"NY\",\"IN\",\"MD\",\"KS\",\"NM\",\"AL\",\"WA\",\"MO\",\"OH\",\"LA\",\"FL\",\"CO\",\"MI\",\"TN\",\"DC\",\"MA\",\"WI\",\"HI\",\"VT\",\"DE\",\"NH\",\"NE\",\"CT\",\"OR\",\"AR\",\"MT\",\"NV\",\"WV\",\"WY\",\"OK\",\"KY\",\"MS\",\"ME\",\"UT\",\"ND\",\"AK\",\"ID\",\"IA\"],\"name\":\"\",\"z\":[0.030946297291098615,0.09724530229749381,-0.027162998147646986,-0.024428390115990843,-0.012802970402797712,0.06097021154618344,0.015124963531119985,0.07801213603951981,-0.005422506717642661,-0.043136987376675144,-0.02220912231079578,-0.011937531772761412,0.024348778533413665,-0.06824280456373359,0.04304018821077716,-0.0925886148994244,-0.01293293392766187,0.04861479046648332,-0.04412386884835961,0.026743188487597144,-0.014737936725955688,0.04965275207964663,0.005429172466226319,-0.008526917199901042,-0.004690469062527993,-0.08224593712294591,0.04365671780088104,0.04201439718088435,-0.07278086278890508,-0.1004804960647184,0.07370919473491803,0.07667281284793236,0.030893250101905998,-0.04604898605655988,-0.19682976344816616,-0.08318596810464175,-0.006953153468605112,0.0017311954896660428,0.013053126828728319,0.0029436471682330006,-0.40447785960965466,-0.024211428682173967,0.0017318296198734207,0.029450034652454445,-0.9499244824051986,0.4678140500462039,-0.021796924921266066,-0.234083017478726,-0.03157379474322383,1.794601013662395,0.2201345937218814],\"type\":\"choropleth\"}],                        {\"template\":{\"data\":{\"histogram2dcontour\":[{\"type\":\"histogram2dcontour\",\"colorbar\":{\"outlinewidth\":0,\"ticks\":\"\"},\"colorscale\":[[0.0,\"#0d0887\"],[0.1111111111111111,\"#46039f\"],[0.2222222222222222,\"#7201a8\"],[0.3333333333333333,\"#9c179e\"],[0.4444444444444444,\"#bd3786\"],[0.5555555555555556,\"#d8576b\"],[0.6666666666666666,\"#ed7953\"],[0.7777777777777778,\"#fb9f3a\"],[0.8888888888888888,\"#fdca26\"],[1.0,\"#f0f921\"]]}],\"choropleth\":[{\"type\":\"choropleth\",\"colorbar\":{\"outlinewidth\":0,\"ticks\":\"\"}}],\"histogram2d\":[{\"type\":\"histogram2d\",\"colorbar\":{\"outlinewidth\":0,\"ticks\":\"\"},\"colorscale\":[[0.0,\"#0d0887\"],[0.1111111111111111,\"#46039f\"],[0.2222222222222222,\"#7201a8\"],[0.3333333333333333,\"#9c179e\"],[0.4444444444444444,\"#bd3786\"],[0.5555555555555556,\"#d8576b\"],[0.6666666666666666,\"#ed7953\"],[0.7777777777777778,\"#fb9f3a\"],[0.8888888888888888,\"#fdca26\"],[1.0,\"#f0f921\"]]}],\"heatmap\":[{\"type\":\"heatmap\",\"colorbar\":{\"outlinewidth\":0,\"ticks\":\"\"},\"colorscale\":[[0.0,\"#0d0887\"],[0.1111111111111111,\"#46039f\"],[0.2222222222222222,\"#7201a8\"],[0.3333333333333333,\"#9c179e\"],[0.4444444444444444,\"#bd3786\"],[0.5555555555555556,\"#d8576b\"],[0.6666666666666666,\"#ed7953\"],[0.7777777777777778,\"#fb9f3a\"],[0.8888888888888888,\"#fdca26\"],[1.0,\"#f0f921\"]]}],\"heatmapgl\":[{\"type\":\"heatmapgl\",\"colorbar\":{\"outlinewidth\":0,\"ticks\":\"\"},\"colorscale\":[[0.0,\"#0d0887\"],[0.1111111111111111,\"#46039f\"],[0.2222222222222222,\"#7201a8\"],[0.3333333333333333,\"#9c179e\"],[0.4444444444444444,\"#bd3786\"],[0.5555555555555556,\"#d8576b\"],[0.6666666666666666,\"#ed7953\"],[0.7777777777777778,\"#fb9f3a\"],[0.8888888888888888,\"#fdca26\"],[1.0,\"#f0f921\"]]}],\"contourcarpet\":[{\"type\":\"contourcarpet\",\"colorbar\":{\"outlinewidth\":0,\"ticks\":\"\"}}],\"contour\":[{\"type\":\"contour\",\"colorbar\":{\"outlinewidth\":0,\"ticks\":\"\"},\"colorscale\":[[0.0,\"#0d0887\"],[0.1111111111111111,\"#46039f\"],[0.2222222222222222,\"#7201a8\"],[0.3333333333333333,\"#9c179e\"],[0.4444444444444444,\"#bd3786\"],[0.5555555555555556,\"#d8576b\"],[0.6666666666666666,\"#ed7953\"],[0.7777777777777778,\"#fb9f3a\"],[0.8888888888888888,\"#fdca26\"],[1.0,\"#f0f921\"]]}],\"surface\":[{\"type\":\"surface\",\"colorbar\":{\"outlinewidth\":0,\"ticks\":\"\"},\"colorscale\":[[0.0,\"#0d0887\"],[0.1111111111111111,\"#46039f\"],[0.2222222222222222,\"#7201a8\"],[0.3333333333333333,\"#9c179e\"],[0.4444444444444444,\"#bd3786\"],[0.5555555555555556,\"#d8576b\"],[0.6666666666666666,\"#ed7953\"],[0.7777777777777778,\"#fb9f3a\"],[0.8888888888888888,\"#fdca26\"],[1.0,\"#f0f921\"]]}],\"mesh3d\":[{\"type\":\"mesh3d\",\"colorbar\":{\"outlinewidth\":0,\"ticks\":\"\"}}],\"scatter\":[{\"fillpattern\":{\"fillmode\":\"overlay\",\"size\":10,\"solidity\":0.2},\"type\":\"scatter\"}],\"parcoords\":[{\"type\":\"parcoords\",\"line\":{\"colorbar\":{\"outlinewidth\":0,\"ticks\":\"\"}}}],\"scatterpolargl\":[{\"type\":\"scatterpolargl\",\"marker\":{\"colorbar\":{\"outlinewidth\":0,\"ticks\":\"\"}}}],\"bar\":[{\"error_x\":{\"color\":\"#2a3f5f\"},\"error_y\":{\"color\":\"#2a3f5f\"},\"marker\":{\"line\":{\"color\":\"#E5ECF6\",\"width\":0.5},\"pattern\":{\"fillmode\":\"overlay\",\"size\":10,\"solidity\":0.2}},\"type\":\"bar\"}],\"scattergeo\":[{\"type\":\"scattergeo\",\"marker\":{\"colorbar\":{\"outlinewidth\":0,\"ticks\":\"\"}}}],\"scatterpolar\":[{\"type\":\"scatterpolar\",\"marker\":{\"colorbar\":{\"outlinewidth\":0,\"ticks\":\"\"}}}],\"histogram\":[{\"marker\":{\"pattern\":{\"fillmode\":\"overlay\",\"size\":10,\"solidity\":0.2}},\"type\":\"histogram\"}],\"scattergl\":[{\"type\":\"scattergl\",\"marker\":{\"colorbar\":{\"outlinewidth\":0,\"ticks\":\"\"}}}],\"scatter3d\":[{\"type\":\"scatter3d\",\"line\":{\"colorbar\":{\"outlinewidth\":0,\"ticks\":\"\"}},\"marker\":{\"colorbar\":{\"outlinewidth\":0,\"ticks\":\"\"}}}],\"scattermapbox\":[{\"type\":\"scattermapbox\",\"marker\":{\"colorbar\":{\"outlinewidth\":0,\"ticks\":\"\"}}}],\"scatterternary\":[{\"type\":\"scatterternary\",\"marker\":{\"colorbar\":{\"outlinewidth\":0,\"ticks\":\"\"}}}],\"scattercarpet\":[{\"type\":\"scattercarpet\",\"marker\":{\"colorbar\":{\"outlinewidth\":0,\"ticks\":\"\"}}}],\"carpet\":[{\"aaxis\":{\"endlinecolor\":\"#2a3f5f\",\"gridcolor\":\"white\",\"linecolor\":\"white\",\"minorgridcolor\":\"white\",\"startlinecolor\":\"#2a3f5f\"},\"baxis\":{\"endlinecolor\":\"#2a3f5f\",\"gridcolor\":\"white\",\"linecolor\":\"white\",\"minorgridcolor\":\"white\",\"startlinecolor\":\"#2a3f5f\"},\"type\":\"carpet\"}],\"table\":[{\"cells\":{\"fill\":{\"color\":\"#EBF0F8\"},\"line\":{\"color\":\"white\"}},\"header\":{\"fill\":{\"color\":\"#C8D4E3\"},\"line\":{\"color\":\"white\"}},\"type\":\"table\"}],\"barpolar\":[{\"marker\":{\"line\":{\"color\":\"#E5ECF6\",\"width\":0.5},\"pattern\":{\"fillmode\":\"overlay\",\"size\":10,\"solidity\":0.2}},\"type\":\"barpolar\"}],\"pie\":[{\"automargin\":true,\"type\":\"pie\"}]},\"layout\":{\"autotypenumbers\":\"strict\",\"colorway\":[\"#636efa\",\"#EF553B\",\"#00cc96\",\"#ab63fa\",\"#FFA15A\",\"#19d3f3\",\"#FF6692\",\"#B6E880\",\"#FF97FF\",\"#FECB52\"],\"font\":{\"color\":\"#2a3f5f\"},\"hovermode\":\"closest\",\"hoverlabel\":{\"align\":\"left\"},\"paper_bgcolor\":\"white\",\"plot_bgcolor\":\"#E5ECF6\",\"polar\":{\"bgcolor\":\"#E5ECF6\",\"angularaxis\":{\"gridcolor\":\"white\",\"linecolor\":\"white\",\"ticks\":\"\"},\"radialaxis\":{\"gridcolor\":\"white\",\"linecolor\":\"white\",\"ticks\":\"\"}},\"ternary\":{\"bgcolor\":\"#E5ECF6\",\"aaxis\":{\"gridcolor\":\"white\",\"linecolor\":\"white\",\"ticks\":\"\"},\"baxis\":{\"gridcolor\":\"white\",\"linecolor\":\"white\",\"ticks\":\"\"},\"caxis\":{\"gridcolor\":\"white\",\"linecolor\":\"white\",\"ticks\":\"\"}},\"coloraxis\":{\"colorbar\":{\"outlinewidth\":0,\"ticks\":\"\"}},\"colorscale\":{\"sequential\":[[0.0,\"#0d0887\"],[0.1111111111111111,\"#46039f\"],[0.2222222222222222,\"#7201a8\"],[0.3333333333333333,\"#9c179e\"],[0.4444444444444444,\"#bd3786\"],[0.5555555555555556,\"#d8576b\"],[0.6666666666666666,\"#ed7953\"],[0.7777777777777778,\"#fb9f3a\"],[0.8888888888888888,\"#fdca26\"],[1.0,\"#f0f921\"]],\"sequentialminus\":[[0.0,\"#0d0887\"],[0.1111111111111111,\"#46039f\"],[0.2222222222222222,\"#7201a8\"],[0.3333333333333333,\"#9c179e\"],[0.4444444444444444,\"#bd3786\"],[0.5555555555555556,\"#d8576b\"],[0.6666666666666666,\"#ed7953\"],[0.7777777777777778,\"#fb9f3a\"],[0.8888888888888888,\"#fdca26\"],[1.0,\"#f0f921\"]],\"diverging\":[[0,\"#8e0152\"],[0.1,\"#c51b7d\"],[0.2,\"#de77ae\"],[0.3,\"#f1b6da\"],[0.4,\"#fde0ef\"],[0.5,\"#f7f7f7\"],[0.6,\"#e6f5d0\"],[0.7,\"#b8e186\"],[0.8,\"#7fbc41\"],[0.9,\"#4d9221\"],[1,\"#276419\"]]},\"xaxis\":{\"gridcolor\":\"white\",\"linecolor\":\"white\",\"ticks\":\"\",\"title\":{\"standoff\":15},\"zerolinecolor\":\"white\",\"automargin\":true,\"zerolinewidth\":2},\"yaxis\":{\"gridcolor\":\"white\",\"linecolor\":\"white\",\"ticks\":\"\",\"title\":{\"standoff\":15},\"zerolinecolor\":\"white\",\"automargin\":true,\"zerolinewidth\":2},\"scene\":{\"xaxis\":{\"backgroundcolor\":\"#E5ECF6\",\"gridcolor\":\"white\",\"linecolor\":\"white\",\"showbackground\":true,\"ticks\":\"\",\"zerolinecolor\":\"white\",\"gridwidth\":2},\"yaxis\":{\"backgroundcolor\":\"#E5ECF6\",\"gridcolor\":\"white\",\"linecolor\":\"white\",\"showbackground\":true,\"ticks\":\"\",\"zerolinecolor\":\"white\",\"gridwidth\":2},\"zaxis\":{\"backgroundcolor\":\"#E5ECF6\",\"gridcolor\":\"white\",\"linecolor\":\"white\",\"showbackground\":true,\"ticks\":\"\",\"zerolinecolor\":\"white\",\"gridwidth\":2}},\"shapedefaults\":{\"line\":{\"color\":\"#2a3f5f\"}},\"annotationdefaults\":{\"arrowcolor\":\"#2a3f5f\",\"arrowhead\":0,\"arrowwidth\":1},\"geo\":{\"bgcolor\":\"white\",\"landcolor\":\"#E5ECF6\",\"subunitcolor\":\"white\",\"showland\":true,\"showlakes\":true,\"lakecolor\":\"white\"},\"title\":{\"x\":0.05},\"mapbox\":{\"style\":\"light\"}}},\"geo\":{\"domain\":{\"x\":[0.0,1.0],\"y\":[0.0,1.0]},\"center\":{},\"scope\":\"usa\"},\"coloraxis\":{\"colorbar\":{\"title\":{\"text\":\"FFR Coefficient\"}},\"colorscale\":[[0.0,\"rgb(165,0,38)\"],[0.1,\"rgb(215,48,39)\"],[0.2,\"rgb(244,109,67)\"],[0.3,\"rgb(253,174,97)\"],[0.4,\"rgb(254,224,144)\"],[0.5,\"rgb(255,255,191)\"],[0.6,\"rgb(224,243,248)\"],[0.7,\"rgb(171,217,233)\"],[0.8,\"rgb(116,173,209)\"],[0.9,\"rgb(69,117,180)\"],[1.0,\"rgb(49,54,149)\"]],\"cmin\":-0.1,\"cmax\":0.1},\"legend\":{\"tracegroupgap\":0},\"margin\":{\"t\":0,\"r\":0,\"l\":0,\"b\":0}},                        {\"responsive\": true}                    ).then(function(){\n",
       "                            \n",
       "var gd = document.getElementById('39ef969a-6cc7-4a67-87e5-62a6c3f63218');\n",
       "var x = new MutationObserver(function (mutations, observer) {{\n",
       "        var display = window.getComputedStyle(gd).display;\n",
       "        if (!display || display === 'none') {{\n",
       "            console.log([gd, 'removed!']);\n",
       "            Plotly.purge(gd);\n",
       "            observer.disconnect();\n",
       "        }}\n",
       "}});\n",
       "\n",
       "// Listen for the removal of the full notebook cells\n",
       "var notebookContainer = gd.closest('#notebook-container');\n",
       "if (notebookContainer) {{\n",
       "    x.observe(notebookContainer, {childList: true});\n",
       "}}\n",
       "\n",
       "// Listen for the clearing of the current output cell\n",
       "var outputEl = gd.closest('.output');\n",
       "if (outputEl) {{\n",
       "    x.observe(outputEl, {childList: true});\n",
       "}}\n",
       "\n",
       "                        })                };                });            </script>        </div>"
      ]
     },
     "metadata": {},
     "output_type": "display_data"
    }
   ],
   "source": [
    "import plotly.express as px\n",
    "from urllib.request import urlopen\n",
    "import json\n",
    "\n",
    "with urlopen('https://raw.githubusercontent.com/johan/world.geo.json/master/countries/USA.geo.json') as response:\n",
    "    states = json.load(response)\n",
    "\n",
    "coeffs['FFR Coefficient'] = coeffs['FFR']\n",
    "col = 'FFR Coefficient'\n",
    "fig = px.choropleth(coeffs.reset_index()[['index', col]], locations='index', color=col,\n",
    "                           locationmode=\"USA-states\",\n",
    "                            color_continuous_scale=px.colors.diverging.RdYlBu,\n",
    "                           scope=\"usa\",\n",
    "                            range_color=[-0.1, 0.1])\n",
    "\n",
    "fig.update_layout(margin={\"r\":0,\"t\":0,\"l\":0,\"b\":0})\n",
    "fig.show()"
   ]
  },
  {
   "cell_type": "code",
   "execution_count": 149,
   "id": "79baa664",
   "metadata": {},
   "outputs": [
    {
     "data": {
      "text/html": [
       "<div>\n",
       "<style scoped>\n",
       "    .dataframe tbody tr th:only-of-type {\n",
       "        vertical-align: middle;\n",
       "    }\n",
       "\n",
       "    .dataframe tbody tr th {\n",
       "        vertical-align: top;\n",
       "    }\n",
       "\n",
       "    .dataframe thead th {\n",
       "        text-align: right;\n",
       "    }\n",
       "</style>\n",
       "<table border=\"1\" class=\"dataframe\">\n",
       "  <thead>\n",
       "    <tr style=\"text-align: right;\">\n",
       "      <th></th>\n",
       "      <th>CPI</th>\n",
       "      <th>FFR</th>\n",
       "      <th>UR</th>\n",
       "      <th>IR</th>\n",
       "      <th>MR</th>\n",
       "    </tr>\n",
       "  </thead>\n",
       "  <tbody>\n",
       "    <tr>\n",
       "      <th>MS</th>\n",
       "      <td>0.167103</td>\n",
       "      <td>-0.949924</td>\n",
       "      <td>-0.924813</td>\n",
       "      <td>0.281400</td>\n",
       "      <td>-0.209294</td>\n",
       "    </tr>\n",
       "    <tr>\n",
       "      <th>WV</th>\n",
       "      <td>-0.721049</td>\n",
       "      <td>-0.404478</td>\n",
       "      <td>0.132107</td>\n",
       "      <td>-0.496913</td>\n",
       "      <td>0.274441</td>\n",
       "    </tr>\n",
       "    <tr>\n",
       "      <th>ND</th>\n",
       "      <td>-0.124376</td>\n",
       "      <td>-0.234083</td>\n",
       "      <td>-1.894911</td>\n",
       "      <td>0.339579</td>\n",
       "      <td>0.008465</td>\n",
       "    </tr>\n",
       "    <tr>\n",
       "      <th>NE</th>\n",
       "      <td>-0.000804</td>\n",
       "      <td>-0.196830</td>\n",
       "      <td>-1.707775</td>\n",
       "      <td>0.249787</td>\n",
       "      <td>-0.010020</td>\n",
       "    </tr>\n",
       "    <tr>\n",
       "      <th>WI</th>\n",
       "      <td>-0.041345</td>\n",
       "      <td>-0.100480</td>\n",
       "      <td>0.042776</td>\n",
       "      <td>0.045792</td>\n",
       "      <td>-0.033441</td>\n",
       "    </tr>\n",
       "  </tbody>\n",
       "</table>\n",
       "</div>"
      ],
      "text/plain": [
       "         CPI       FFR        UR        IR        MR\n",
       "MS  0.167103 -0.949924 -0.924813  0.281400 -0.209294\n",
       "WV -0.721049 -0.404478  0.132107 -0.496913  0.274441\n",
       "ND -0.124376 -0.234083 -1.894911  0.339579  0.008465\n",
       "NE -0.000804 -0.196830 -1.707775  0.249787 -0.010020\n",
       "WI -0.041345 -0.100480  0.042776  0.045792 -0.033441"
      ]
     },
     "execution_count": 149,
     "metadata": {},
     "output_type": "execute_result"
    }
   ],
   "source": [
    "coeffs.sort_values('FFR').head()"
   ]
  }
 ],
 "metadata": {
  "kernelspec": {
   "display_name": "Python 3 (ipykernel)",
   "language": "python",
   "name": "python3"
  },
  "language_info": {
   "codemirror_mode": {
    "name": "ipython",
    "version": 3
   },
   "file_extension": ".py",
   "mimetype": "text/x-python",
   "name": "python",
   "nbconvert_exporter": "python",
   "pygments_lexer": "ipython3",
   "version": "3.9.7"
  }
 },
 "nbformat": 4,
 "nbformat_minor": 5
}
